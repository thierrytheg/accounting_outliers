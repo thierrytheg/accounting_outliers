{
  "nbformat": 4,
  "nbformat_minor": 0,
  "metadata": {
    "colab": {
      "name": "accounting_outliers.ipynb",
      "provenance": [],
      "collapsed_sections": [],
      "toc_visible": true
    },
    "kernelspec": {
      "name": "python3",
      "display_name": "Python 3"
    },
    "widgets": {
      "application/vnd.jupyter.widget-state+json": {
        "4436d46148654c9881dc8c3e9a4f3ccd": {
          "model_module": "@jupyter-widgets/controls",
          "model_name": "VBoxModel",
          "state": {
            "_view_name": "VBoxView",
            "_dom_classes": [
              "widget-interact"
            ],
            "_model_name": "VBoxModel",
            "_view_module": "@jupyter-widgets/controls",
            "_model_module_version": "1.5.0",
            "_view_count": null,
            "_view_module_version": "1.5.0",
            "box_style": "",
            "layout": "IPY_MODEL_029665d3be7d46e4817e0c7ffc6f3628",
            "_model_module": "@jupyter-widgets/controls",
            "children": [
              "IPY_MODEL_9cfbfcd01bac4b3bbb4575606be33b88",
              "IPY_MODEL_a0e622d1c5004f7eb2a61b394a8ac92d"
            ]
          }
        },
        "029665d3be7d46e4817e0c7ffc6f3628": {
          "model_module": "@jupyter-widgets/base",
          "model_name": "LayoutModel",
          "state": {
            "_view_name": "LayoutView",
            "grid_template_rows": null,
            "right": null,
            "justify_content": null,
            "_view_module": "@jupyter-widgets/base",
            "overflow": null,
            "_model_module_version": "1.2.0",
            "_view_count": null,
            "flex_flow": null,
            "width": null,
            "min_width": null,
            "border": null,
            "align_items": null,
            "bottom": null,
            "_model_module": "@jupyter-widgets/base",
            "top": null,
            "grid_column": null,
            "overflow_y": null,
            "overflow_x": null,
            "grid_auto_flow": null,
            "grid_area": null,
            "grid_template_columns": null,
            "flex": null,
            "_model_name": "LayoutModel",
            "justify_items": null,
            "grid_row": null,
            "max_height": null,
            "align_content": null,
            "visibility": null,
            "align_self": null,
            "height": null,
            "min_height": null,
            "padding": null,
            "grid_auto_rows": null,
            "grid_gap": null,
            "max_width": null,
            "order": null,
            "_view_module_version": "1.2.0",
            "grid_template_areas": null,
            "object_position": null,
            "object_fit": null,
            "grid_auto_columns": null,
            "margin": null,
            "display": null,
            "left": null
          }
        },
        "9cfbfcd01bac4b3bbb4575606be33b88": {
          "model_module": "@jupyter-widgets/controls",
          "model_name": "SelectMultipleModel",
          "state": {
            "_options_labels": [
              "10050000",
              "10130000",
              "10180000",
              "10220000",
              "10250000",
              "10400000",
              "10410000",
              "10430000",
              "10440000",
              "10460000",
              "10470000",
              "10480000",
              "10500000",
              "12060000",
              "12210000",
              "12270000",
              "12320000",
              "12410000",
              "12460000",
              "12510000",
              "12560000",
              "12620000",
              "12670000",
              "12710000",
              "12770000",
              "12810000",
              "12860000",
              "12890000",
              "13070000",
              "13120000",
              "13200000",
              "13300000",
              "13360000",
              "13370000",
              "13380000",
              "13420000",
              "13430000",
              "13450000",
              "13460000",
              "13520000",
              "13600000",
              "13610000",
              "20040000",
              "20050000",
              "20090000",
              "20110000",
              "20320000",
              "20350000",
              "20400000",
              "20450000",
              "20570000",
              "20610000",
              "20670000",
              "21120000",
              "21220000",
              "21230000",
              "21260000",
              "21270000",
              "21280000",
              "21290000",
              "21320000",
              "21330000",
              "21380000",
              "21390000",
              "21440000",
              "21450000",
              "21550000",
              "21560000",
              "40050000",
              "40100000",
              "40150000",
              "40200000",
              "40250000",
              "40300000",
              "40500000",
              "40510000",
              "40520000",
              "40540000",
              "40550000",
              "40560000",
              "40590000",
              "41100000",
              "41150000",
              "50050000",
              "50060000",
              "50070000",
              "50140000",
              "50150000",
              "50160000",
              "50170000",
              "50190000",
              "50200000",
              "50210000",
              "50220000",
              "50230000",
              "50240000",
              "50250000",
              "50260000",
              "50280000",
              "50300000",
              "50310000",
              "50320000",
              "50330000",
              "50340000",
              "50400000",
              "50420000",
              "50430000",
              "50450000",
              "50460000",
              "50470000",
              "50480000",
              "50490000",
              "50500000",
              "50510000",
              "50520000",
              "50530000",
              "50540000",
              "50550000",
              "50560000",
              "50580000",
              "50590000",
              "50600000",
              "50610000",
              "50640000",
              "50650000",
              "50660000",
              "50670000",
              "50690000",
              "50700000",
              "50710000",
              "50720000",
              "50730000",
              "50740000",
              "50750000",
              "50760000",
              "50770000",
              "50780000",
              "50790000",
              "50800000",
              "50840000",
              "50850000",
              "50860000",
              "50870000",
              "50890000",
              "50900000",
              "50930000",
              "50940000",
              "50990000",
              "51000000",
              "51010000",
              "51050000",
              "51060000",
              "51070000",
              "51080000",
              "51100000",
              "51110000",
              "51120000",
              "51130000",
              "51140000",
              "51150000",
              "51160000",
              "51170000",
              "51190000",
              "51200000",
              "51210000",
              "51220000",
              "51250000",
              "51260000",
              "51270000",
              "51280000",
              "51290000",
              "51300000",
              "51320000",
              "51330000",
              "51340000",
              "51350000",
              "51360000",
              "51370000",
              "51380000",
              "51390000",
              "51420000",
              "51430000",
              "51490000",
              "51500000",
              "51580000",
              "51650000",
              "51660000",
              "51680000",
              "51700000"
            ],
            "_view_name": "SelectMultipleView",
            "style": "IPY_MODEL_a54624b77bab4210ba755b08b535160e",
            "rows": 5,
            "_dom_classes": [],
            "description": "Select Account",
            "_model_name": "SelectMultipleModel",
            "index": [
              4
            ],
            "_view_module": "@jupyter-widgets/controls",
            "_model_module_version": "1.5.0",
            "_view_count": null,
            "disabled": false,
            "_view_module_version": "1.5.0",
            "description_tooltip": null,
            "_model_module": "@jupyter-widgets/controls",
            "layout": "IPY_MODEL_50a676e540d54478abba33b43f59a1c7"
          }
        },
        "a0e622d1c5004f7eb2a61b394a8ac92d": {
          "model_module": "@jupyter-widgets/output",
          "model_name": "OutputModel",
          "state": {
            "_view_name": "OutputView",
            "msg_id": "",
            "_dom_classes": [],
            "_model_name": "OutputModel",
            "outputs": [
              {
                "output_type": "stream",
                "metadata": {
                  "tags": []
                },
                "text": "==============\nOutliers detected for this account: 3\nFor the account(s) selected,\nTransactions relating to this account greater than 564,835.00 or smaller than -608,819.00 need attention\n",
                "stream": "stdout"
              },
              {
                "output_type": "display_data",
                "metadata": {
                  "tags": []
                },
                "text/plain": "alt.Chart(...)",
                "text/html": "\n<div id=\"altair-viz-28b99f05fb88419cbc62802a305f3fc1\"></div>\n<script type=\"text/javascript\">\n  (function(spec, embedOpt){\n    let outputDiv = document.currentScript.previousElementSibling;\n    if (outputDiv.id !== \"altair-viz-28b99f05fb88419cbc62802a305f3fc1\") {\n      outputDiv = document.getElementById(\"altair-viz-28b99f05fb88419cbc62802a305f3fc1\");\n    }\n    const paths = {\n      \"vega\": \"https://cdn.jsdelivr.net/npm//vega@5?noext\",\n      \"vega-lib\": \"https://cdn.jsdelivr.net/npm//vega-lib?noext\",\n      \"vega-lite\": \"https://cdn.jsdelivr.net/npm//vega-lite@4.8.1?noext\",\n      \"vega-embed\": \"https://cdn.jsdelivr.net/npm//vega-embed@6?noext\",\n    };\n\n    function loadScript(lib) {\n      return new Promise(function(resolve, reject) {\n        var s = document.createElement('script');\n        s.src = paths[lib];\n        s.async = true;\n        s.onload = () => resolve(paths[lib]);\n        s.onerror = () => reject(`Error loading script: ${paths[lib]}`);\n        document.getElementsByTagName(\"head\")[0].appendChild(s);\n      });\n    }\n\n    function showError(err) {\n      outputDiv.innerHTML = `<div class=\"error\" style=\"color:red;\">${err}</div>`;\n      throw err;\n    }\n\n    function displayChart(vegaEmbed) {\n      vegaEmbed(outputDiv, spec, embedOpt)\n        .catch(err => showError(`Javascript Error: ${err.message}<br>This usually means there's a typo in your chart specification. See the javascript console for the full traceback.`));\n    }\n\n    if(typeof define === \"function\" && define.amd) {\n      requirejs.config({paths});\n      require([\"vega-embed\"], displayChart, err => showError(`Error loading script: ${err.message}`));\n    } else if (typeof vegaEmbed === \"function\") {\n      displayChart(vegaEmbed);\n    } else {\n      loadScript(\"vega\")\n        .then(() => loadScript(\"vega-lite\"))\n        .then(() => loadScript(\"vega-embed\"))\n        .catch(showError)\n        .then(() => displayChart(vegaEmbed));\n    }\n  })({\"config\": {\"view\": {\"continuousWidth\": 400, \"continuousHeight\": 300}}, \"data\": {\"name\": \"data-e9391508c9d3b35bc6be8c3fb8cffab5\"}, \"mark\": \"boxplot\", \"encoding\": {\"y\": {\"type\": \"quantitative\", \"field\": \"Amount\"}}, \"height\": 500, \"width\": 300, \"$schema\": \"https://vega.github.io/schema/vega-lite/v4.8.1.json\", \"datasets\": {\"data-e9391508c9d3b35bc6be8c3fb8cffab5\": [{\"lJEntIdblabla\": 133, \"Account\": 10250000, \"Amount\": -733533.83, \"szComment\": null, \"Abs_Val\": 733533.83, \"First_Digit\": \"7\"}, {\"lJEntIdblabla\": 537, \"Account\": 10250000, \"Amount\": -109960.0, \"szComment\": null, \"Abs_Val\": 109960.0, \"First_Digit\": \"1\"}, {\"lJEntIdblabla\": 548, \"Account\": 10250000, \"Amount\": 733533.83, \"szComment\": \"Correct JE 133\", \"Abs_Val\": 733533.83, \"First_Digit\": \"7\"}]}}, {\"mode\": \"vega-lite\"});\n</script>"
              }
            ],
            "_view_module": "@jupyter-widgets/output",
            "_model_module_version": "1.0.0",
            "_view_count": null,
            "_view_module_version": "1.0.0",
            "layout": "IPY_MODEL_5562d8d4eac84085b54650d887fd6d8c",
            "_model_module": "@jupyter-widgets/output"
          }
        },
        "a54624b77bab4210ba755b08b535160e": {
          "model_module": "@jupyter-widgets/controls",
          "model_name": "DescriptionStyleModel",
          "state": {
            "_view_name": "StyleView",
            "_model_name": "DescriptionStyleModel",
            "description_width": "",
            "_view_module": "@jupyter-widgets/base",
            "_model_module_version": "1.5.0",
            "_view_count": null,
            "_view_module_version": "1.2.0",
            "_model_module": "@jupyter-widgets/controls"
          }
        },
        "50a676e540d54478abba33b43f59a1c7": {
          "model_module": "@jupyter-widgets/base",
          "model_name": "LayoutModel",
          "state": {
            "_view_name": "LayoutView",
            "grid_template_rows": null,
            "right": null,
            "justify_content": null,
            "_view_module": "@jupyter-widgets/base",
            "overflow": null,
            "_model_module_version": "1.2.0",
            "_view_count": null,
            "flex_flow": null,
            "width": null,
            "min_width": null,
            "border": null,
            "align_items": null,
            "bottom": null,
            "_model_module": "@jupyter-widgets/base",
            "top": null,
            "grid_column": null,
            "overflow_y": null,
            "overflow_x": null,
            "grid_auto_flow": null,
            "grid_area": null,
            "grid_template_columns": null,
            "flex": null,
            "_model_name": "LayoutModel",
            "justify_items": null,
            "grid_row": null,
            "max_height": null,
            "align_content": null,
            "visibility": null,
            "align_self": null,
            "height": null,
            "min_height": null,
            "padding": null,
            "grid_auto_rows": null,
            "grid_gap": null,
            "max_width": null,
            "order": null,
            "_view_module_version": "1.2.0",
            "grid_template_areas": null,
            "object_position": null,
            "object_fit": null,
            "grid_auto_columns": null,
            "margin": null,
            "display": null,
            "left": null
          }
        },
        "5562d8d4eac84085b54650d887fd6d8c": {
          "model_module": "@jupyter-widgets/base",
          "model_name": "LayoutModel",
          "state": {
            "_view_name": "LayoutView",
            "grid_template_rows": null,
            "right": null,
            "justify_content": null,
            "_view_module": "@jupyter-widgets/base",
            "overflow": null,
            "_model_module_version": "1.2.0",
            "_view_count": null,
            "flex_flow": null,
            "width": null,
            "min_width": null,
            "border": null,
            "align_items": null,
            "bottom": null,
            "_model_module": "@jupyter-widgets/base",
            "top": null,
            "grid_column": null,
            "overflow_y": null,
            "overflow_x": null,
            "grid_auto_flow": null,
            "grid_area": null,
            "grid_template_columns": null,
            "flex": null,
            "_model_name": "LayoutModel",
            "justify_items": null,
            "grid_row": null,
            "max_height": null,
            "align_content": null,
            "visibility": null,
            "align_self": null,
            "height": null,
            "min_height": null,
            "padding": null,
            "grid_auto_rows": null,
            "grid_gap": null,
            "max_width": null,
            "order": null,
            "_view_module_version": "1.2.0",
            "grid_template_areas": null,
            "object_position": null,
            "object_fit": null,
            "grid_auto_columns": null,
            "margin": null,
            "display": null,
            "left": null
          }
        }
      }
    }
  },
  "cells": [
    {
      "cell_type": "markdown",
      "metadata": {
        "id": "aCZBFzjClURz"
      },
      "source": [
        "# Detect Outliers in your general ledger\n",
        "\n",
        "Lorem ipsum dolor sit amet, consectetur adipiscing elit. Donec rhoncus convallis laoreet. In nec varius est, consequat venenatis nulla. Mauris non elit leo. Quisque lorem est, condimentum at luctus ac, tempus eget tortor. Quisque mollis justo purus, in sollicitudin nisl mollis at. Proin justo sapien, viverra a enim nec, interdum lacinia est. Donec cursus elementum ligula quis consectetur. \n",
        "\n",
        "[flask text](https://blog.miguelgrinberg.com/post/the-flask-mega-tutorial-part-i-hello-world)\n",
        "\n",
        "\n",
        "\n",
        "<table class=\"tfo-notebook-buttons\" align=\"left\">\n",
        "  <td>\n",
        "    <a target=\"_blank\" href=\"https://colab.research.google.com/github/tensorflow/tensorflow/blob/master/tensorflow/lite/micro/examples/hello_world/train/train_hello_world_model.ipynb\"><img src=\"https://www.tensorflow.org/images/colab_logo_32px.png\" />Run in Google Colab</a>\n",
        "  </td>\n",
        "  <td>\n",
        "    <a target=\"_blank\" href=\"https://github.com/thierrytheg/accounting_outliers\"><img src=\"https://www.tensorflow.org/images/GitHub-Mark-32px.png\" />View source on GitHub</a>\n",
        "  </td>\n",
        "</table>"
      ]
    },
    {
      "cell_type": "code",
      "metadata": {
        "id": "OsS0KuSlgXtr"
      },
      "source": [
        "#https://developer.xero.com/documentation/api/journals\r\n",
        "#https://qbar.intuit.com/resources.html\r\n",
        "#Crystal Reports\r\n",
        "\r\n",
        "#Sage: columns lJEntId, lAcctId and dAmount from table #tJEntAct\r\n"
      ],
      "execution_count": null,
      "outputs": []
    },
    {
      "cell_type": "markdown",
      "metadata": {
        "id": "kY95W_7XM1hA"
      },
      "source": [
        ""
      ]
    },
    {
      "cell_type": "markdown",
      "metadata": {
        "id": "_UQblnrLd_ET"
      },
      "source": [
        "## Configure Defaults"
      ]
    },
    {
      "cell_type": "code",
      "metadata": {
        "colab": {
          "base_uri": "https://localhost:8080/"
        },
        "id": "MiJ9Zblp2mqX",
        "outputId": "ce230128-7ee2-414c-e8ed-90cd343722de"
      },
      "source": [
        "from google.colab import drive\r\n",
        "drive.mount('/content/gdrive')"
      ],
      "execution_count": null,
      "outputs": [
        {
          "output_type": "stream",
          "text": [
            "Drive already mounted at /content/gdrive; to attempt to forcibly remount, call drive.mount(\"/content/gdrive\", force_remount=True).\n"
          ],
          "name": "stdout"
        }
      ]
    },
    {
      "cell_type": "code",
      "metadata": {
        "colab": {
          "base_uri": "https://localhost:8080/"
        },
        "id": "hbqqKlHPF36T",
        "outputId": "b1dd7694-e1a2-4726-eeea-4ea314784ec3"
      },
      "source": [
        "#clone github repo\r\n",
        "!git clone https://github.com/thierrytheg/accounting_outliers.git\r\n",
        "\r\n",
        "#delete temp file from upload file\r\n",
        "!rm -r /content/accounting_outliers/uploads/test.txt"
      ],
      "execution_count": 1,
      "outputs": [
        {
          "output_type": "stream",
          "text": [
            "Cloning into 'accounting_outliers'...\n",
            "remote: Enumerating objects: 52, done.\u001b[K\n",
            "remote: Counting objects: 100% (52/52), done.\u001b[K\n",
            "remote: Compressing objects: 100% (48/48), done.\u001b[K\n",
            "remote: Total 52 (delta 6), reused 0 (delta 0), pack-reused 0\u001b[K\n",
            "Unpacking objects: 100% (52/52), done.\n"
          ],
          "name": "stdout"
        }
      ]
    },
    {
      "cell_type": "code",
      "metadata": {
        "colab": {
          "base_uri": "https://localhost:8080/"
        },
        "id": "iyRkUEC6KpVY",
        "outputId": "64669758-9f48-4ff1-92d9-85671c84a300"
      },
      "source": [
        "!pip install flask-ngrok\r\n",
        "!pip install pandas\r\n",
        "!pip install openpyxl\r\n",
        "!pip install matplotlib.pyplot\r\n",
        "!pip install numpy\r\n",
        "!pip install ipywidgets"
      ],
      "execution_count": 2,
      "outputs": [
        {
          "output_type": "stream",
          "text": [
            "Collecting flask-ngrok\n",
            "  Downloading https://files.pythonhosted.org/packages/af/6c/f54cb686ad1129e27d125d182f90f52b32f284e6c8df58c1bae54fa1adbc/flask_ngrok-0.0.25-py3-none-any.whl\n",
            "Requirement already satisfied: Flask>=0.8 in /usr/local/lib/python3.6/dist-packages (from flask-ngrok) (1.1.2)\n",
            "Requirement already satisfied: requests in /usr/local/lib/python3.6/dist-packages (from flask-ngrok) (2.23.0)\n",
            "Requirement already satisfied: Jinja2>=2.10.1 in /usr/local/lib/python3.6/dist-packages (from Flask>=0.8->flask-ngrok) (2.11.3)\n",
            "Requirement already satisfied: itsdangerous>=0.24 in /usr/local/lib/python3.6/dist-packages (from Flask>=0.8->flask-ngrok) (1.1.0)\n",
            "Requirement already satisfied: Werkzeug>=0.15 in /usr/local/lib/python3.6/dist-packages (from Flask>=0.8->flask-ngrok) (1.0.1)\n",
            "Requirement already satisfied: click>=5.1 in /usr/local/lib/python3.6/dist-packages (from Flask>=0.8->flask-ngrok) (7.1.2)\n",
            "Requirement already satisfied: urllib3!=1.25.0,!=1.25.1,<1.26,>=1.21.1 in /usr/local/lib/python3.6/dist-packages (from requests->flask-ngrok) (1.24.3)\n",
            "Requirement already satisfied: chardet<4,>=3.0.2 in /usr/local/lib/python3.6/dist-packages (from requests->flask-ngrok) (3.0.4)\n",
            "Requirement already satisfied: idna<3,>=2.5 in /usr/local/lib/python3.6/dist-packages (from requests->flask-ngrok) (2.10)\n",
            "Requirement already satisfied: certifi>=2017.4.17 in /usr/local/lib/python3.6/dist-packages (from requests->flask-ngrok) (2020.12.5)\n",
            "Requirement already satisfied: MarkupSafe>=0.23 in /usr/local/lib/python3.6/dist-packages (from Jinja2>=2.10.1->Flask>=0.8->flask-ngrok) (1.1.1)\n",
            "Installing collected packages: flask-ngrok\n",
            "Successfully installed flask-ngrok-0.0.25\n",
            "Requirement already satisfied: pandas in /usr/local/lib/python3.6/dist-packages (1.1.5)\n",
            "Requirement already satisfied: python-dateutil>=2.7.3 in /usr/local/lib/python3.6/dist-packages (from pandas) (2.8.1)\n",
            "Requirement already satisfied: pytz>=2017.2 in /usr/local/lib/python3.6/dist-packages (from pandas) (2018.9)\n",
            "Requirement already satisfied: numpy>=1.15.4 in /usr/local/lib/python3.6/dist-packages (from pandas) (1.19.5)\n",
            "Requirement already satisfied: six>=1.5 in /usr/local/lib/python3.6/dist-packages (from python-dateutil>=2.7.3->pandas) (1.15.0)\n",
            "Requirement already satisfied: openpyxl in /usr/local/lib/python3.6/dist-packages (2.5.9)\n",
            "Requirement already satisfied: et-xmlfile in /usr/local/lib/python3.6/dist-packages (from openpyxl) (1.0.1)\n",
            "Requirement already satisfied: jdcal in /usr/local/lib/python3.6/dist-packages (from openpyxl) (1.4.1)\n",
            "\u001b[31mERROR: Could not find a version that satisfies the requirement matplotlib.pyplot (from versions: none)\u001b[0m\n",
            "\u001b[31mERROR: No matching distribution found for matplotlib.pyplot\u001b[0m\n",
            "Requirement already satisfied: numpy in /usr/local/lib/python3.6/dist-packages (1.19.5)\n",
            "Requirement already satisfied: ipywidgets in /usr/local/lib/python3.6/dist-packages (7.6.3)\n",
            "Requirement already satisfied: jupyterlab-widgets>=1.0.0; python_version >= \"3.6\" in /usr/local/lib/python3.6/dist-packages (from ipywidgets) (1.0.0)\n",
            "Requirement already satisfied: ipykernel>=4.5.1 in /usr/local/lib/python3.6/dist-packages (from ipywidgets) (4.10.1)\n",
            "Requirement already satisfied: nbformat>=4.2.0 in /usr/local/lib/python3.6/dist-packages (from ipywidgets) (5.1.2)\n",
            "Requirement already satisfied: ipython>=4.0.0; python_version >= \"3.3\" in /usr/local/lib/python3.6/dist-packages (from ipywidgets) (5.5.0)\n",
            "Requirement already satisfied: traitlets>=4.3.1 in /usr/local/lib/python3.6/dist-packages (from ipywidgets) (4.3.3)\n",
            "Requirement already satisfied: widgetsnbextension~=3.5.0 in /usr/local/lib/python3.6/dist-packages (from ipywidgets) (3.5.1)\n",
            "Requirement already satisfied: tornado>=4.0 in /usr/local/lib/python3.6/dist-packages (from ipykernel>=4.5.1->ipywidgets) (5.1.1)\n",
            "Requirement already satisfied: jupyter-client in /usr/local/lib/python3.6/dist-packages (from ipykernel>=4.5.1->ipywidgets) (5.3.5)\n",
            "Requirement already satisfied: jupyter-core in /usr/local/lib/python3.6/dist-packages (from nbformat>=4.2.0->ipywidgets) (4.7.1)\n",
            "Requirement already satisfied: jsonschema!=2.5.0,>=2.4 in /usr/local/lib/python3.6/dist-packages (from nbformat>=4.2.0->ipywidgets) (2.6.0)\n",
            "Requirement already satisfied: ipython-genutils in /usr/local/lib/python3.6/dist-packages (from nbformat>=4.2.0->ipywidgets) (0.2.0)\n",
            "Requirement already satisfied: prompt-toolkit<2.0.0,>=1.0.4 in /usr/local/lib/python3.6/dist-packages (from ipython>=4.0.0; python_version >= \"3.3\"->ipywidgets) (1.0.18)\n",
            "Requirement already satisfied: pexpect; sys_platform != \"win32\" in /usr/local/lib/python3.6/dist-packages (from ipython>=4.0.0; python_version >= \"3.3\"->ipywidgets) (4.8.0)\n",
            "Requirement already satisfied: setuptools>=18.5 in /usr/local/lib/python3.6/dist-packages (from ipython>=4.0.0; python_version >= \"3.3\"->ipywidgets) (53.0.0)\n",
            "Requirement already satisfied: pickleshare in /usr/local/lib/python3.6/dist-packages (from ipython>=4.0.0; python_version >= \"3.3\"->ipywidgets) (0.7.5)\n",
            "Requirement already satisfied: decorator in /usr/local/lib/python3.6/dist-packages (from ipython>=4.0.0; python_version >= \"3.3\"->ipywidgets) (4.4.2)\n",
            "Requirement already satisfied: pygments in /usr/local/lib/python3.6/dist-packages (from ipython>=4.0.0; python_version >= \"3.3\"->ipywidgets) (2.6.1)\n",
            "Requirement already satisfied: simplegeneric>0.8 in /usr/local/lib/python3.6/dist-packages (from ipython>=4.0.0; python_version >= \"3.3\"->ipywidgets) (0.8.1)\n",
            "Requirement already satisfied: six in /usr/local/lib/python3.6/dist-packages (from traitlets>=4.3.1->ipywidgets) (1.15.0)\n",
            "Requirement already satisfied: notebook>=4.4.1 in /usr/local/lib/python3.6/dist-packages (from widgetsnbextension~=3.5.0->ipywidgets) (5.3.1)\n",
            "Requirement already satisfied: python-dateutil>=2.1 in /usr/local/lib/python3.6/dist-packages (from jupyter-client->ipykernel>=4.5.1->ipywidgets) (2.8.1)\n",
            "Requirement already satisfied: pyzmq>=13 in /usr/local/lib/python3.6/dist-packages (from jupyter-client->ipykernel>=4.5.1->ipywidgets) (22.0.2)\n",
            "Requirement already satisfied: wcwidth in /usr/local/lib/python3.6/dist-packages (from prompt-toolkit<2.0.0,>=1.0.4->ipython>=4.0.0; python_version >= \"3.3\"->ipywidgets) (0.2.5)\n",
            "Requirement already satisfied: ptyprocess>=0.5 in /usr/local/lib/python3.6/dist-packages (from pexpect; sys_platform != \"win32\"->ipython>=4.0.0; python_version >= \"3.3\"->ipywidgets) (0.7.0)\n",
            "Requirement already satisfied: jinja2 in /usr/local/lib/python3.6/dist-packages (from notebook>=4.4.1->widgetsnbextension~=3.5.0->ipywidgets) (2.11.3)\n",
            "Requirement already satisfied: Send2Trash in /usr/local/lib/python3.6/dist-packages (from notebook>=4.4.1->widgetsnbextension~=3.5.0->ipywidgets) (1.5.0)\n",
            "Requirement already satisfied: terminado>=0.8.1 in /usr/local/lib/python3.6/dist-packages (from notebook>=4.4.1->widgetsnbextension~=3.5.0->ipywidgets) (0.9.2)\n",
            "Requirement already satisfied: nbconvert in /usr/local/lib/python3.6/dist-packages (from notebook>=4.4.1->widgetsnbextension~=3.5.0->ipywidgets) (5.6.1)\n",
            "Requirement already satisfied: MarkupSafe>=0.23 in /usr/local/lib/python3.6/dist-packages (from jinja2->notebook>=4.4.1->widgetsnbextension~=3.5.0->ipywidgets) (1.1.1)\n",
            "Requirement already satisfied: pandocfilters>=1.4.1 in /usr/local/lib/python3.6/dist-packages (from nbconvert->notebook>=4.4.1->widgetsnbextension~=3.5.0->ipywidgets) (1.4.3)\n",
            "Requirement already satisfied: bleach in /usr/local/lib/python3.6/dist-packages (from nbconvert->notebook>=4.4.1->widgetsnbextension~=3.5.0->ipywidgets) (3.3.0)\n",
            "Requirement already satisfied: defusedxml in /usr/local/lib/python3.6/dist-packages (from nbconvert->notebook>=4.4.1->widgetsnbextension~=3.5.0->ipywidgets) (0.6.0)\n",
            "Requirement already satisfied: mistune<2,>=0.8.1 in /usr/local/lib/python3.6/dist-packages (from nbconvert->notebook>=4.4.1->widgetsnbextension~=3.5.0->ipywidgets) (0.8.4)\n",
            "Requirement already satisfied: entrypoints>=0.2.2 in /usr/local/lib/python3.6/dist-packages (from nbconvert->notebook>=4.4.1->widgetsnbextension~=3.5.0->ipywidgets) (0.3)\n",
            "Requirement already satisfied: testpath in /usr/local/lib/python3.6/dist-packages (from nbconvert->notebook>=4.4.1->widgetsnbextension~=3.5.0->ipywidgets) (0.4.4)\n",
            "Requirement already satisfied: packaging in /usr/local/lib/python3.6/dist-packages (from bleach->nbconvert->notebook>=4.4.1->widgetsnbextension~=3.5.0->ipywidgets) (20.9)\n",
            "Requirement already satisfied: webencodings in /usr/local/lib/python3.6/dist-packages (from bleach->nbconvert->notebook>=4.4.1->widgetsnbextension~=3.5.0->ipywidgets) (0.5.1)\n",
            "Requirement already satisfied: pyparsing>=2.0.2 in /usr/local/lib/python3.6/dist-packages (from packaging->bleach->nbconvert->notebook>=4.4.1->widgetsnbextension~=3.5.0->ipywidgets) (2.4.7)\n"
          ],
          "name": "stdout"
        }
      ]
    },
    {
      "cell_type": "code",
      "metadata": {
        "id": "vK1pn48sKwtO",
        "colab": {
          "base_uri": "https://localhost:8080/"
        },
        "outputId": "7de7a4d3-0ee8-48d7-ca62-2dd2248d7cf0"
      },
      "source": [
        "from flask import Flask\r\n",
        "from flask import render_template, request, redirect, url_for, abort, send_from_directory\r\n",
        "\r\n",
        "from werkzeug.utils import secure_filename\r\n",
        "\r\n",
        "import os\r\n",
        "\r\n",
        "app = Flask(__name__,template_folder='/content/accounting_outliers/templates/')\r\n",
        "\r\n",
        "app.config['UPLOAD_EXTENSIONS'] = ['.xls', '.xlsx', '.csv']\r\n",
        "\r\n",
        "app.config['UPLOAD_PATH'] = r'/content/accounting_outliers/uploads/'\r\n",
        "\r\n",
        "from flask_ngrok import run_with_ngrok\r\n",
        "run_with_ngrok(app)\r\n",
        "\r\n",
        "@app.route(\"/\")\r\n",
        "def home():\r\n",
        "    return render_template('home.html')\r\n",
        "\r\n",
        "@app.errorhandler(413)\r\n",
        "def too_large(e):\r\n",
        "    return \"Format Not Supported\", 413\r\n",
        "\r\n",
        "\r\n",
        "@app.route('/', methods=['POST'])\r\n",
        "def upload_files():\r\n",
        "    uploaded_file = request.files['file']\r\n",
        "    filename = secure_filename(uploaded_file.filename)\r\n",
        "    if filename != '':\r\n",
        "        file_ext = os.path.splitext(filename)[1]\r\n",
        "        if file_ext not in app.config['UPLOAD_EXTENSIONS'] :\r\n",
        "            return \"This format is not supported\", 400\r\n",
        "        uploaded_file.save(os.path.join(app.config['UPLOAD_PATH'], filename))\r\n",
        "    return \"File Successfully Uploaded. You can now close this tab.\", 204\r\n",
        "\r\n",
        "@app.route('/<filename>')\r\n",
        "def uploads(filename):\r\n",
        "    return send_from_directory(app.config['UPLOAD_PATH'], filename)\r\n",
        "\r\n",
        "if __name__ == '__main__':\r\n",
        "  app.run()\r\n",
        "\r\n"
      ],
      "execution_count": null,
      "outputs": [
        {
          "output_type": "stream",
          "text": [
            " * Serving Flask app \"__main__\" (lazy loading)\n",
            " * Environment: production\n",
            "\u001b[31m   WARNING: This is a development server. Do not use it in a production deployment.\u001b[0m\n",
            "\u001b[2m   Use a production WSGI server instead.\u001b[0m\n",
            " * Debug mode: off\n"
          ],
          "name": "stdout"
        },
        {
          "output_type": "stream",
          "text": [
            " * Running on http://127.0.0.1:5000/ (Press CTRL+C to quit)\n"
          ],
          "name": "stderr"
        },
        {
          "output_type": "stream",
          "text": [
            " * Running on http://23cb15670420.ngrok.io\n",
            " * Traffic stats available on http://127.0.0.1:4040\n"
          ],
          "name": "stdout"
        },
        {
          "output_type": "stream",
          "text": [
            "127.0.0.1 - - [11/Feb/2021 19:31:16] \"\u001b[37mGET / HTTP/1.1\u001b[0m\" 200 -\n",
            "127.0.0.1 - - [11/Feb/2021 19:31:16] \"\u001b[33mGET /favicon.ico HTTP/1.1\u001b[0m\" 404 -\n"
          ],
          "name": "stderr"
        }
      ]
    },
    {
      "cell_type": "code",
      "metadata": {
        "colab": {
          "base_uri": "https://localhost:8080/"
        },
        "id": "zQ6_2w75hyKQ",
        "outputId": "3e00e6ac-4558-4452-f1b9-5cc9b9897676"
      },
      "source": [
        "import pandas as pd\r\n",
        "\r\n",
        "import os\r\n",
        "os.chdir(r'/content/accounting_outliers/uploads/')\r\n",
        "\r\n",
        "try:\r\n",
        "\r\n",
        "  if len([name for name in os.listdir('.') if (os.path.isfile(name) and ((name.split('.')[1]).startswith('xls') or (name.split('.')[1]).startswith('csv')))])==0:\r\n",
        "    print(\"You have no files in the uplodad folder.\")\r\n",
        "\r\n",
        "  elif len([name for name in os.listdir('.') if (os.path.isfile(name) and ((name.split('.')[1]).startswith('xls') or (name.split('.')[1]).startswith('csv')))])>1:\r\n",
        "    print(\"You have too many files in the uplodad folder. Please remove %s files in order to keep 1.\" %len([name for name in os.listdir('.') if (os.path.isfile(name) and ((name.split('.')[1]).startswith('xls') or (name.split('.')[1]).startswith('csv'))-1)])) \r\n",
        "\r\n",
        "  elif len([name for name in os.listdir('.') if (os.path.isfile(name) and ((name.split('.')[1]).startswith('xls') or (name.split('.')[1]).startswith('csv')))])==1:\r\n",
        "    for file in os.listdir(os.getcwd()):\r\n",
        "      if os.path.isfile(file) and (file.split('.')[1]).startswith('xls'):\r\n",
        "\r\n",
        "        try:\r\n",
        "          if file.split('.')[1]=='csv':\r\n",
        "            df=pd.read_csv(file)\r\n",
        "\r\n",
        "          elif (file.split('.')[1]).startswith('xls'):\r\n",
        "            df=pd.read_excel(file)\r\n",
        "            print(\"Your dataset contains %s columns and %s rows for a total of %s elements.\" %(df.shape[1],df.shape[0],df.size))\r\n",
        "\r\n",
        "          else:\r\n",
        "            print(\"The file is not an excel or a csv\")\r\n",
        "\r\n",
        "\r\n",
        "        except Exception as e:\r\n",
        "          print(files,e)\r\n",
        "\r\n",
        "except Exception as e:\r\n",
        "  print(e)"
      ],
      "execution_count": 190,
      "outputs": [
        {
          "output_type": "stream",
          "text": [
            "Your dataset contains 4 columns and 3033 rows for a total of 12132 elements.\n"
          ],
          "name": "stdout"
        }
      ]
    },
    {
      "cell_type": "code",
      "metadata": {
        "colab": {
          "base_uri": "https://localhost:8080/"
        },
        "id": "88Yeep4JqXPX",
        "outputId": "b387f7b0-65a1-48ad-9c28-6c5476223970"
      },
      "source": [
        "#Detect column with Account Listing\r\n",
        "\r\n",
        "for n in range(len(df.select_dtypes(include='int').columns)):\r\n",
        "  if ('acc' or 'account') in (df.select_dtypes(include='int').columns[n]).lower():\r\n",
        "    df['Account']=df[df.select_dtypes(include='int').columns[n]]\r\n",
        "    print(\"The 'Account' column was successfully identified\")\r\n",
        "    \r\n",
        "\r\n",
        "#Detect column with dollar values\r\n",
        "for n in range(len(df.select_dtypes(include='float64').columns)):\r\n",
        "  if ('am' or 'amount') in (df.select_dtypes(include='float64').columns[n]).lower():\r\n",
        "    df['Amount']=df[df.select_dtypes(include='float64').columns[n]]\r\n",
        "    print(\"The 'Amount' column was successfully identified\")\r\n",
        "    \r\n",
        "\r\n",
        "new_columns=['Account','Amount']\r\n",
        "for column in new_columns:\r\n",
        "  if column in df.columns:\r\n",
        "    pass\r\n",
        "  else:\r\n",
        "    print(\"Unable to detect your %s column. Please rename the appropriate column '%s' and re-upload the file\" %(column,column))"
      ],
      "execution_count": 191,
      "outputs": [
        {
          "output_type": "stream",
          "text": [
            "The 'Account' column was successfully identified\n",
            "The 'Amount' column was successfully identified\n"
          ],
          "name": "stdout"
        }
      ]
    },
    {
      "cell_type": "code",
      "metadata": {
        "id": "6CX9or0D055V",
        "colab": {
          "base_uri": "https://localhost:8080/",
          "height": 306
        },
        "outputId": "e6c342b0-6497-4fb9-e957-00e94039205b"
      },
      "source": [
        "#Detect time series to use for calculations convert Amount to absolute values\r\n",
        "df['Abs_Val']=abs(df[df.select_dtypes(include='float64').columns])\r\n",
        "\r\n",
        "\r\n",
        "\r\n",
        "#filter out all rows with values under 1\r\n",
        "df=df.loc[df['Abs_Val']>1]\r\n",
        "\r\n",
        "#convert First_Digit column to string and extract first digit\r\n",
        "df['First_Digit']=(df['Abs_Val']).apply(str).str[0]\r\n",
        "\r\n",
        "#create series with count for each first digit\r\n",
        "bensford_df=df['First_Digit'].value_counts()\r\n",
        "bensford_df['Your_Dist_Pct']=round((bensford_df/bensford_df.sum())*100,1)\r\n",
        "\r\n",
        "\r\n",
        "#create a temporary dataframe to plot Benford Distribution\r\n",
        "bensford_list=list(bensford_df['Your_Dist_Pct'])\r\n",
        "\r\n",
        "data={\r\n",
        "'First_Digit':[1,2,3,4,5,6,7,8,9],\r\n",
        "'Your_Distribution' : bensford_list,\r\n",
        "'Bensford_Distribution': [30.1,17.6,12.5,9.7,7.9,6.7,5.8,5.1,4.6]\r\n",
        "}\r\n",
        "df_plot=pd.DataFrame(data=data,columns=['First_Digit','Your_Distribution','Bensford_Distribution'])\r\n",
        "df_plot"
      ],
      "execution_count": 192,
      "outputs": [
        {
          "output_type": "execute_result",
          "data": {
            "text/html": [
              "<div>\n",
              "<style scoped>\n",
              "    .dataframe tbody tr th:only-of-type {\n",
              "        vertical-align: middle;\n",
              "    }\n",
              "\n",
              "    .dataframe tbody tr th {\n",
              "        vertical-align: top;\n",
              "    }\n",
              "\n",
              "    .dataframe thead th {\n",
              "        text-align: right;\n",
              "    }\n",
              "</style>\n",
              "<table border=\"1\" class=\"dataframe\">\n",
              "  <thead>\n",
              "    <tr style=\"text-align: right;\">\n",
              "      <th></th>\n",
              "      <th>First_Digit</th>\n",
              "      <th>Your_Distribution</th>\n",
              "      <th>Bensford_Distribution</th>\n",
              "    </tr>\n",
              "  </thead>\n",
              "  <tbody>\n",
              "    <tr>\n",
              "      <th>0</th>\n",
              "      <td>1</td>\n",
              "      <td>43.2</td>\n",
              "      <td>30.1</td>\n",
              "    </tr>\n",
              "    <tr>\n",
              "      <th>1</th>\n",
              "      <td>2</td>\n",
              "      <td>18.5</td>\n",
              "      <td>17.6</td>\n",
              "    </tr>\n",
              "    <tr>\n",
              "      <th>2</th>\n",
              "      <td>3</td>\n",
              "      <td>12.3</td>\n",
              "      <td>12.5</td>\n",
              "    </tr>\n",
              "    <tr>\n",
              "      <th>3</th>\n",
              "      <td>4</td>\n",
              "      <td>9.9</td>\n",
              "      <td>9.7</td>\n",
              "    </tr>\n",
              "    <tr>\n",
              "      <th>4</th>\n",
              "      <td>5</td>\n",
              "      <td>6.6</td>\n",
              "      <td>7.9</td>\n",
              "    </tr>\n",
              "    <tr>\n",
              "      <th>5</th>\n",
              "      <td>6</td>\n",
              "      <td>3.8</td>\n",
              "      <td>6.7</td>\n",
              "    </tr>\n",
              "    <tr>\n",
              "      <th>6</th>\n",
              "      <td>7</td>\n",
              "      <td>2.7</td>\n",
              "      <td>5.8</td>\n",
              "    </tr>\n",
              "    <tr>\n",
              "      <th>7</th>\n",
              "      <td>8</td>\n",
              "      <td>1.8</td>\n",
              "      <td>5.1</td>\n",
              "    </tr>\n",
              "    <tr>\n",
              "      <th>8</th>\n",
              "      <td>9</td>\n",
              "      <td>1.3</td>\n",
              "      <td>4.6</td>\n",
              "    </tr>\n",
              "  </tbody>\n",
              "</table>\n",
              "</div>"
            ],
            "text/plain": [
              "   First_Digit  Your_Distribution  Bensford_Distribution\n",
              "0            1               43.2                   30.1\n",
              "1            2               18.5                   17.6\n",
              "2            3               12.3                   12.5\n",
              "3            4                9.9                    9.7\n",
              "4            5                6.6                    7.9\n",
              "5            6                3.8                    6.7\n",
              "6            7                2.7                    5.8\n",
              "7            8                1.8                    5.1\n",
              "8            9                1.3                    4.6"
            ]
          },
          "metadata": {
            "tags": []
          },
          "execution_count": 192
        }
      ]
    },
    {
      "cell_type": "code",
      "metadata": {
        "colab": {
          "base_uri": "https://localhost:8080/",
          "height": 297
        },
        "id": "4ZupVUT_Uy82",
        "outputId": "8181d686-5977-46a6-9d47-ada74b0cf32c"
      },
      "source": [
        "#https://matplotlib.org/3.1.1/gallery/lines_bars_and_markers/barchart.html\r\n",
        "\r\n",
        "import matplotlib.pyplot as plt\r\n",
        "import numpy as np\r\n",
        "\r\n",
        "labels = list(df_plot['First_Digit'])\r\n",
        "Bensford_Distribution = list(df_plot['Bensford_Distribution'])\r\n",
        "Your_Distribution = list(df_plot['Your_Distribution'])\r\n",
        "\r\n",
        "x = np.arange(len(labels))  # the label locations\r\n",
        "width = 0.35  # the width of the bars\r\n",
        "\r\n",
        "fig, ax = plt.subplots()\r\n",
        "\r\n",
        "rects1 = ax.bar(x - width/2, Bensford_Distribution, width, label='Bensford_Distribution')\r\n",
        "rects2 = ax.bar(x + width/2, Your_Distribution, width, label='Your_Distribution')\r\n",
        "\r\n",
        "# Add some text for labels, title and custom x-axis tick labels, etc.\r\n",
        "ax.set_xlabel('First Digit')\r\n",
        "ax.set_ylabel('Distribution')\r\n",
        "\r\n",
        "ax.set_title(\"Your Data Distribution vs Bensford's Distribution\")\r\n",
        "ax.set_xticks(x)\r\n",
        "ax.set_xticklabels(labels)\r\n",
        "ax.legend()\r\n",
        "\r\n",
        "\r\n",
        "def autolabel(rects):\r\n",
        "    \"\"\"Attach a text label above each bar in *rects*, displaying its height.\"\"\"\r\n",
        "    for rect in rects:\r\n",
        "        height = rect.get_height()\r\n",
        "        ax.annotate(''.format(height),\r\n",
        "                    xy=(rect.get_x() + rect.get_width() / 2, height),\r\n",
        "                    xytext=(0, 3),  # 3 points vertical offset\r\n",
        "                    textcoords=\"offset points\",\r\n",
        "                    ha='center', va='bottom')\r\n",
        "\r\n",
        "\r\n",
        "autolabel(rects1)\r\n",
        "autolabel(rects2)\r\n",
        "\r\n",
        "fig.tight_layout()\r\n",
        "\r\n",
        "plt.show()\r\n",
        "a=fig.savefig(r'/content/accounting_outliers/uploads/benfords_dtr.png')"
      ],
      "execution_count": 193,
      "outputs": [
        {
          "output_type": "display_data",
          "data": {
            "image/png": "[encoded data removed]",
            "text/plain": [
              "<Figure size 432x288 with 1 Axes>"
            ]
          },
          "metadata": {
            "tags": [],
            "needs_background": "light"
          }
        }
      ]
    },
    {
      "cell_type": "markdown",
      "metadata": {
        "id": "FigOeXC1Foiz"
      },
      "source": [
        "Explain what the Bensford Distribution does and what the interpretations can be"
      ]
    },
    {
      "cell_type": "code",
      "metadata": {
        "id": "IO95EfahYPFq"
      },
      "source": [
        "#describe method used to detect outliers"
      ],
      "execution_count": null,
      "outputs": []
    },
    {
      "cell_type": "code",
      "metadata": {
        "colab": {
          "base_uri": "https://localhost:8080/",
          "height": 700,
          "referenced_widgets": [
            "4436d46148654c9881dc8c3e9a4f3ccd",
            "029665d3be7d46e4817e0c7ffc6f3628",
            "9cfbfcd01bac4b3bbb4575606be33b88",
            "a0e622d1c5004f7eb2a61b394a8ac92d",
            "a54624b77bab4210ba755b08b535160e",
            "50a676e540d54478abba33b43f59a1c7",
            "5562d8d4eac84085b54650d887fd6d8c"
          ]
        },
        "id": "tDM2JWyWWCly",
        "outputId": "22d93a63-9b1a-4dbc-80b6-6f2eb5229990"
      },
      "source": [
        "#Vizualize your data by account and immediately identify outliers\r\n",
        "\r\n",
        "import altair as alt\r\n",
        "import ipywidgets as widgets\r\n",
        "\r\n",
        "\r\n",
        "q3_sensitivity=0.9\r\n",
        "q1_sensitivity=0.1\r\n",
        "\r\n",
        "\r\n",
        "account_picker = widgets.SelectMultiple(\r\n",
        "    options=sorted(df.Account.unique()),\r\n",
        "    value=list(df.Account.unique()),\r\n",
        "    description='Select Account')\r\n",
        "\r\n",
        "@widgets.interact(account=account_picker)\r\n",
        "def render(account):\r\n",
        "  selected = df[df.Account.isin(list(account))]\r\n",
        "  print(\"==============\")\r\n",
        "\r\n",
        "  outlierq3=(selected[selected.columns].loc[selected[df.select_dtypes(include='float64').columns[0]]>np.quantile(df[df.select_dtypes(include='float64').columns[0]],q3_sensitivity)])\r\n",
        "  outlierq1=(selected[selected.columns].loc[selected[df.select_dtypes(include='float64').columns[0]]<np.quantile(df[df.select_dtypes(include='float64').columns[0]],q1_sensitivity)])\r\n",
        "\r\n",
        "\r\n",
        "  if (len(outlierq1) and len(outlierq3)) == 0:\r\n",
        "    print(\"No outliers were detected for this account\")\r\n",
        "\r\n",
        "\r\n",
        "  else:\r\n",
        "\r\n",
        "    print(\"Outliers detected for this account: %s\" %((outlierq3.shape[0])+outlierq1.shape[0]))    \r\n",
        "\r\n",
        "    print(\"For the account(s) selected,\")\r\n",
        "    print(\"Transactions relating to this account greater than %s or smaller than %s need attention\" %(\"{:,.2f}\".format(round(np.quantile(selected['Amount'],q3_sensitivity),0)),\"{:,.2f}\".format(round(np.quantile(selected['Amount'],q1_sensitivity),0))))\r\n",
        "  \r\n",
        "  return alt.Chart(selected).mark_boxplot().encode(\r\n",
        "      y='Amount').properties(width=300,height=500)\r\n",
        "  "
      ],
      "execution_count": 213,
      "outputs": [
        {
          "output_type": "display_data",
          "data": {
            "application/vnd.jupyter.widget-view+json": {
              "model_id": "4436d46148654c9881dc8c3e9a4f3ccd",
              "version_minor": 0,
              "version_major": 2
            },
            "text/plain": [
              "interactive(children=(SelectMultiple(description='Select Account', index=(0, 74, 70, 68, 69, 73, 72, 71, 48, 8…"
            ]
          },
          "metadata": {
            "tags": []
          }
        }
      ]
    },
    {
      "cell_type": "code",
      "metadata": {
        "id": "CuT3CUYg1HCf"
      },
      "source": [
        ""
      ],
      "execution_count": null,
      "outputs": []
    }
  ]
}